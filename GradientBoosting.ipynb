{
 "cells": [
  {
   "cell_type": "markdown",
   "id": "2d4e2a04-c6f8-41f8-9171-a59bde8dddfc",
   "metadata": {},
   "source": [
    "## 🌾 Real-Life Use Case: Predicting the Best Crop for a Given Soil\n",
    "## 🎯 Objective:\n",
    "#### Given soil and environmental conditions (e.g., nitrogen, phosphorus, pH, rainfall), predict the best crop to grow (e.g., rice, maize, cotton, etc.).\n",
    "\n"
   ]
  },
  {
   "cell_type": "markdown",
   "id": "61e2218e-05b2-4730-8bce-62c49275388f",
   "metadata": {},
   "source": [
    "### ✅ Tools:\n",
    "#### Dataset: Crop recommendation dataset (like from Kaggle)\n",
    "\n",
    "#### Algorithm: GradientBoostingClassifier from sklearn.ensemble"
   ]
  },
  {
   "cell_type": "markdown",
   "id": "65c7be85-35ad-4327-a343-c1f2ee663052",
   "metadata": {},
   "source": [
    "## 🧪 Step-by-Step Python Code:"
   ]
  },
  {
   "cell_type": "code",
   "execution_count": 1,
   "id": "8fa57b96-c2db-4b42-8fed-2ac9a2b4c0d7",
   "metadata": {},
   "outputs": [
    {
     "name": "stdout",
     "output_type": "stream",
     "text": [
      "✅ Accuracy: 0.9772727272727273\n",
      "\n",
      "📊 Classification Report:\n",
      "               precision    recall  f1-score   support\n",
      "\n",
      "       apple       1.00      1.00      1.00        23\n",
      "      banana       1.00      1.00      1.00        21\n",
      "   blackgram       1.00      1.00      1.00        20\n",
      "    chickpea       1.00      1.00      1.00        26\n",
      "     coconut       1.00      0.96      0.98        27\n",
      "      coffee       1.00      1.00      1.00        17\n",
      "      cotton       0.94      1.00      0.97        17\n",
      "      grapes       1.00      1.00      1.00        14\n",
      "        jute       0.81      0.91      0.86        23\n",
      " kidneybeans       1.00      1.00      1.00        20\n",
      "      lentil       0.92      1.00      0.96        11\n",
      "       maize       1.00      0.95      0.98        21\n",
      "       mango       1.00      1.00      1.00        19\n",
      "   mothbeans       0.96      0.96      0.96        24\n",
      "    mungbean       1.00      1.00      1.00        19\n",
      "   muskmelon       1.00      1.00      1.00        17\n",
      "      orange       1.00      1.00      1.00        14\n",
      "      papaya       1.00      1.00      1.00        23\n",
      "  pigeonpeas       1.00      0.96      0.98        23\n",
      " pomegranate       1.00      1.00      1.00        23\n",
      "        rice       0.88      0.79      0.83        19\n",
      "  watermelon       1.00      1.00      1.00        19\n",
      "\n",
      "    accuracy                           0.98       440\n",
      "   macro avg       0.98      0.98      0.98       440\n",
      "weighted avg       0.98      0.98      0.98       440\n",
      "\n"
     ]
    },
    {
     "data": {
      "image/png": "[encoded data removed]",
      "text/plain": [
       "<Figure size 800x500 with 1 Axes>"
      ]
     },
     "metadata": {},
     "output_type": "display_data"
    }
   ],
   "source": [
    "# 1. Import Libraries\n",
    "import pandas as pd\n",
    "from sklearn.ensemble import GradientBoostingClassifier\n",
    "from sklearn.model_selection import train_test_split\n",
    "from sklearn.metrics import classification_report, accuracy_score\n",
    "import seaborn as sns\n",
    "import matplotlib.pyplot as plt\n",
    "\n",
    "# 2. Load Dataset\n",
    "#url = \"https://raw.githubusercontent.com/amusa360/datasets/main/Crop_recommendation.csv\"\n",
    "df = pd.read_csv(\"Crop_recommendation.csv\")\n",
    "\n",
    "# Features and target\n",
    "X = df.drop('label', axis=1)\n",
    "y = df['label']\n",
    "\n",
    "# 3. Split the data\n",
    "X_train, X_test, y_train, y_test = train_test_split(X, y, test_size=0.2, random_state=42)\n",
    "\n",
    "# 4. Train Gradient Boosting Model\n",
    "gb = GradientBoostingClassifier(n_estimators=200, learning_rate=0.1, max_depth=3, random_state=42)\n",
    "gb.fit(X_train, y_train)\n",
    "\n",
    "# 5. Predict and Evaluate\n",
    "y_pred = gb.predict(X_test)\n",
    "print(\"✅ Accuracy:\", accuracy_score(y_test, y_pred))\n",
    "print(\"\\n📊 Classification Report:\\n\", classification_report(y_test, y_pred))\n",
    "\n",
    "# 6. Visualize Feature Importance\n",
    "importances = pd.Series(gb.feature_importances_, index=X.columns)\n",
    "importances.sort_values().plot(kind='barh', figsize=(8,5))\n",
    "plt.title(\"Feature Importance for Crop Recommendation\")\n",
    "plt.xlabel(\"Importance Score\")\n",
    "plt.tight_layout()\n",
    "plt.show()\n"
   ]
  },
  {
   "cell_type": "markdown",
   "id": "6fd14b2c-2eeb-4a50-9993-a61d39268c91",
   "metadata": {},
   "source": [
    "## 🧠 Explanation\n",
    "### Features:\n",
    "#### N, P, K: soil nutrients\n",
    "\n",
    "#### temperature, humidity, pH, rainfall\n",
    "\n",
    "### Output:\n",
    "#### The recommended crop label (e.g., rice, cotton, maize, etc.)"
   ]
  },
  {
   "cell_type": "markdown",
   "id": "1df0b645-1937-4610-982e-cc00d9f8ff08",
   "metadata": {},
   "source": [
    "## 🚜 Real-Life Application\n",
    "### This can power:\n",
    "\n",
    "### AgriTech apps for farmers to get crop advice based on soil testing.\n",
    "\n",
    "### Smart irrigation systems that adjust based on the crop.\n",
    "\n",
    "### Government crop advisory platforms."
   ]
  },
  {
   "cell_type": "code",
   "execution_count": null,
   "id": "874430ad-1eea-4ab9-b13a-d85a8a88c588",
   "metadata": {},
   "outputs": [],
   "source": []
  }
 ],
 "metadata": {
  "kernelspec": {
   "display_name": "Python [conda env:base] *",
   "language": "python",
   "name": "conda-base-py"
  },
  "language_info": {
   "codemirror_mode": {
    "name": "ipython",
    "version": 3
   },
   "file_extension": ".py",
   "mimetype": "text/x-python",
   "name": "python",
   "nbconvert_exporter": "python",
   "pygments_lexer": "ipython3",
   "version": "3.12.7"
  }
 },
 "nbformat": 4,
 "nbformat_minor": 5
}
